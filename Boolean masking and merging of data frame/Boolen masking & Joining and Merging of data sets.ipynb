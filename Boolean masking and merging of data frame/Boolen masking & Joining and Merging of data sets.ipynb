{
 "cells": [
  {
   "cell_type": "code",
   "execution_count": 1,
   "id": "5278cc17",
   "metadata": {},
   "outputs": [],
   "source": [
    "import pandas as pd\n",
    "import numpy as np\n",
    "import warnings\n",
    "warnings.filterwarnings('ignore')"
   ]
  },
  {
   "cell_type": "markdown",
   "id": "c8fe5f8c",
   "metadata": {},
   "source": [
    "# <center>BOOLEAN MASKING"
   ]
  },
  {
   "cell_type": "markdown",
   "id": "07b13e34",
   "metadata": {},
   "source": [
    "### Use of boolean masking on series object"
   ]
  },
  {
   "cell_type": "code",
   "execution_count": 2,
   "id": "bad84e11",
   "metadata": {},
   "outputs": [],
   "source": [
    "power_two = pd.Series([1,2,4,8,16,32,64,128,256,512,1024])\n",
    "BM = [False,True,False,True,False,True,False,True,False,True,False]"
   ]
  },
  {
   "cell_type": "code",
   "execution_count": 3,
   "id": "eb9f07d2",
   "metadata": {},
   "outputs": [
    {
     "data": {
      "text/plain": [
       "1      2\n",
       "3      8\n",
       "5     32\n",
       "7    128\n",
       "9    512\n",
       "dtype: int64"
      ]
     },
     "execution_count": 3,
     "metadata": {},
     "output_type": "execute_result"
    }
   ],
   "source": [
    "power_two[BM]"
   ]
  },
  {
   "cell_type": "code",
   "execution_count": 4,
   "id": "6e0b92a1",
   "metadata": {},
   "outputs": [
    {
     "data": {
      "text/plain": [
       "8      256\n",
       "9      512\n",
       "10    1024\n",
       "dtype: int64"
      ]
     },
     "execution_count": 4,
     "metadata": {},
     "output_type": "execute_result"
    }
   ],
   "source": [
    "BM = power_two>150\n",
    "power_two[BM]"
   ]
  },
  {
   "cell_type": "markdown",
   "id": "120bbadd",
   "metadata": {},
   "source": [
    "### Use of boolean masking on data frame"
   ]
  },
  {
   "cell_type": "code",
   "execution_count": 5,
   "id": "2b65b961",
   "metadata": {},
   "outputs": [
    {
     "data": {
      "text/html": [
       "<div>\n",
       "<style scoped>\n",
       "    .dataframe tbody tr th:only-of-type {\n",
       "        vertical-align: middle;\n",
       "    }\n",
       "\n",
       "    .dataframe tbody tr th {\n",
       "        vertical-align: top;\n",
       "    }\n",
       "\n",
       "    .dataframe thead th {\n",
       "        text-align: right;\n",
       "    }\n",
       "</style>\n",
       "<table border=\"1\" class=\"dataframe\">\n",
       "  <thead>\n",
       "    <tr style=\"text-align: right;\">\n",
       "      <th></th>\n",
       "      <th>show_id</th>\n",
       "      <th>type</th>\n",
       "      <th>title</th>\n",
       "      <th>director</th>\n",
       "      <th>cast</th>\n",
       "      <th>country</th>\n",
       "      <th>date_added</th>\n",
       "      <th>release_year</th>\n",
       "      <th>rating</th>\n",
       "      <th>duration</th>\n",
       "      <th>listed_in</th>\n",
       "      <th>description</th>\n",
       "    </tr>\n",
       "  </thead>\n",
       "  <tbody>\n",
       "    <tr>\n",
       "      <th>0</th>\n",
       "      <td>s1</td>\n",
       "      <td>Movie</td>\n",
       "      <td>Dick Johnson Is Dead</td>\n",
       "      <td>Kirsten Johnson</td>\n",
       "      <td>NaN</td>\n",
       "      <td>United States</td>\n",
       "      <td>September 25, 2021</td>\n",
       "      <td>2020</td>\n",
       "      <td>PG-13</td>\n",
       "      <td>90 min</td>\n",
       "      <td>Documentaries</td>\n",
       "      <td>As her father nears the end of his life, filmm...</td>\n",
       "    </tr>\n",
       "    <tr>\n",
       "      <th>1</th>\n",
       "      <td>s2</td>\n",
       "      <td>TV Show</td>\n",
       "      <td>Blood &amp; Water</td>\n",
       "      <td>NaN</td>\n",
       "      <td>Ama Qamata, Khosi Ngema, Gail Mabalane, Thaban...</td>\n",
       "      <td>South Africa</td>\n",
       "      <td>September 24, 2021</td>\n",
       "      <td>2021</td>\n",
       "      <td>TV-MA</td>\n",
       "      <td>2 Seasons</td>\n",
       "      <td>International TV Shows, TV Dramas, TV Mysteries</td>\n",
       "      <td>After crossing paths at a party, a Cape Town t...</td>\n",
       "    </tr>\n",
       "    <tr>\n",
       "      <th>2</th>\n",
       "      <td>s3</td>\n",
       "      <td>TV Show</td>\n",
       "      <td>Ganglands</td>\n",
       "      <td>Julien Leclercq</td>\n",
       "      <td>Sami Bouajila, Tracy Gotoas, Samuel Jouy, Nabi...</td>\n",
       "      <td>NaN</td>\n",
       "      <td>September 24, 2021</td>\n",
       "      <td>2021</td>\n",
       "      <td>TV-MA</td>\n",
       "      <td>1 Season</td>\n",
       "      <td>Crime TV Shows, International TV Shows, TV Act...</td>\n",
       "      <td>To protect his family from a powerful drug lor...</td>\n",
       "    </tr>\n",
       "    <tr>\n",
       "      <th>3</th>\n",
       "      <td>s4</td>\n",
       "      <td>TV Show</td>\n",
       "      <td>Jailbirds New Orleans</td>\n",
       "      <td>NaN</td>\n",
       "      <td>NaN</td>\n",
       "      <td>NaN</td>\n",
       "      <td>September 24, 2021</td>\n",
       "      <td>2021</td>\n",
       "      <td>TV-MA</td>\n",
       "      <td>1 Season</td>\n",
       "      <td>Docuseries, Reality TV</td>\n",
       "      <td>Feuds, flirtations and toilet talk go down amo...</td>\n",
       "    </tr>\n",
       "    <tr>\n",
       "      <th>4</th>\n",
       "      <td>s5</td>\n",
       "      <td>TV Show</td>\n",
       "      <td>Kota Factory</td>\n",
       "      <td>NaN</td>\n",
       "      <td>Mayur More, Jitendra Kumar, Ranjan Raj, Alam K...</td>\n",
       "      <td>India</td>\n",
       "      <td>September 24, 2021</td>\n",
       "      <td>2021</td>\n",
       "      <td>TV-MA</td>\n",
       "      <td>2 Seasons</td>\n",
       "      <td>International TV Shows, Romantic TV Shows, TV ...</td>\n",
       "      <td>In a city of coaching centers known to train I...</td>\n",
       "    </tr>\n",
       "  </tbody>\n",
       "</table>\n",
       "</div>"
      ],
      "text/plain": [
       "  show_id     type                  title         director  \\\n",
       "0      s1    Movie   Dick Johnson Is Dead  Kirsten Johnson   \n",
       "1      s2  TV Show          Blood & Water              NaN   \n",
       "2      s3  TV Show              Ganglands  Julien Leclercq   \n",
       "3      s4  TV Show  Jailbirds New Orleans              NaN   \n",
       "4      s5  TV Show           Kota Factory              NaN   \n",
       "\n",
       "                                                cast        country  \\\n",
       "0                                                NaN  United States   \n",
       "1  Ama Qamata, Khosi Ngema, Gail Mabalane, Thaban...   South Africa   \n",
       "2  Sami Bouajila, Tracy Gotoas, Samuel Jouy, Nabi...            NaN   \n",
       "3                                                NaN            NaN   \n",
       "4  Mayur More, Jitendra Kumar, Ranjan Raj, Alam K...          India   \n",
       "\n",
       "           date_added  release_year rating   duration  \\\n",
       "0  September 25, 2021          2020  PG-13     90 min   \n",
       "1  September 24, 2021          2021  TV-MA  2 Seasons   \n",
       "2  September 24, 2021          2021  TV-MA   1 Season   \n",
       "3  September 24, 2021          2021  TV-MA   1 Season   \n",
       "4  September 24, 2021          2021  TV-MA  2 Seasons   \n",
       "\n",
       "                                           listed_in  \\\n",
       "0                                      Documentaries   \n",
       "1    International TV Shows, TV Dramas, TV Mysteries   \n",
       "2  Crime TV Shows, International TV Shows, TV Act...   \n",
       "3                             Docuseries, Reality TV   \n",
       "4  International TV Shows, Romantic TV Shows, TV ...   \n",
       "\n",
       "                                         description  \n",
       "0  As her father nears the end of his life, filmm...  \n",
       "1  After crossing paths at a party, a Cape Town t...  \n",
       "2  To protect his family from a powerful drug lor...  \n",
       "3  Feuds, flirtations and toilet talk go down amo...  \n",
       "4  In a city of coaching centers known to train I...  "
      ]
     },
     "execution_count": 5,
     "metadata": {},
     "output_type": "execute_result"
    }
   ],
   "source": [
    "data = pd.read_csv('./netflix_titles_2021 (1) (1).csv')\n",
    "data.head(5)"
   ]
  },
  {
   "cell_type": "code",
   "execution_count": 6,
   "id": "acdac6fc",
   "metadata": {},
   "outputs": [
    {
     "data": {
      "text/plain": [
       "array(['Movie', 'TV Show'], dtype=object)"
      ]
     },
     "execution_count": 6,
     "metadata": {},
     "output_type": "execute_result"
    }
   ],
   "source": [
    "data.type.unique()"
   ]
  },
  {
   "cell_type": "code",
   "execution_count": 7,
   "id": "2cbf1e2a",
   "metadata": {},
   "outputs": [
    {
     "data": {
      "text/plain": [
       "2"
      ]
     },
     "execution_count": 7,
     "metadata": {},
     "output_type": "execute_result"
    }
   ],
   "source": [
    "data.type.nunique()"
   ]
  },
  {
   "cell_type": "code",
   "execution_count": 8,
   "id": "a7829c67",
   "metadata": {},
   "outputs": [
    {
     "data": {
      "text/plain": [
       "array([nan,\n",
       "       'Ama Qamata, Khosi Ngema, Gail Mabalane, Thabang Molaba, Dillon Windvogel, Natasha Thahane, Arno Greeff, Xolile Tshabalala, Getmore Sithole, Cindy Mahlangu, Ryle De Morny, Greteli Fincham, Sello Maake Ka-Ncube, Odwa Gwanya, Mekaila Mathys, Sandi Schultz, Duane Williams, Shamilla Miller, Patrick Mofokeng',\n",
       "       'Sami Bouajila, Tracy Gotoas, Samuel Jouy, Nabiha Akkari, Sofia Lesaffre, Salim Kechiouche, Noureddine Farihi, Geert Van Rampelberg, Bakary Diombera',\n",
       "       ...,\n",
       "       'Jesse Eisenberg, Woody Harrelson, Emma Stone, Abigail Breslin, Amber Heard, Bill Murray, Derek Graf',\n",
       "       'Tim Allen, Courteney Cox, Chevy Chase, Kate Mara, Ryan Newman, Michael Cassidy, Spencer Breslin, Rip Torn, Kevin Zegers',\n",
       "       'Vicky Kaushal, Sarah-Jane Dias, Raaghav Chanana, Manish Chaudhary, Meghna Malik, Malkeet Rauni, Anita Shabdish, Chittaranjan Tripathy'],\n",
       "      dtype=object)"
      ]
     },
     "execution_count": 8,
     "metadata": {},
     "output_type": "execute_result"
    }
   ],
   "source": [
    "data.cast.unique()\n"
   ]
  },
  {
   "cell_type": "code",
   "execution_count": 9,
   "id": "1c98742b",
   "metadata": {},
   "outputs": [
    {
     "data": {
      "text/plain": [
       "7692"
      ]
     },
     "execution_count": 9,
     "metadata": {},
     "output_type": "execute_result"
    }
   ],
   "source": [
    "data.cast.nunique()"
   ]
  },
  {
   "cell_type": "markdown",
   "id": "0ca49c2a",
   "metadata": {},
   "source": [
    "### Display Indian directors"
   ]
  },
  {
   "cell_type": "code",
   "execution_count": 10,
   "id": "231d40ce",
   "metadata": {},
   "outputs": [
    {
     "data": {
      "text/plain": [
       "David Dhawan          9\n",
       "Ram Gopal Varma       7\n",
       "Imtiaz Ali            6\n",
       "Sooraj R. Barjatya    6\n",
       "Rajkumar Santoshi     6\n",
       "                     ..\n",
       "Sunil Thakur          1\n",
       "Rai Yuvraj Bains      1\n",
       "Tharun Bhascker       1\n",
       "Maha Venkatesh        1\n",
       "Mozez Singh           1\n",
       "Name: director, Length: 645, dtype: int64"
      ]
     },
     "execution_count": 10,
     "metadata": {},
     "output_type": "execute_result"
    }
   ],
   "source": [
    "BM = data.country=='India'\n",
    "data[BM].director.value_counts()"
   ]
  },
  {
   "cell_type": "code",
   "execution_count": 11,
   "id": "d4ab3c1b",
   "metadata": {},
   "outputs": [
    {
     "data": {
      "text/plain": [
       "Movie      893\n",
       "TV Show     79\n",
       "Name: type, dtype: int64"
      ]
     },
     "execution_count": 11,
     "metadata": {},
     "output_type": "execute_result"
    }
   ],
   "source": [
    "data[BM].type.value_counts()"
   ]
  },
  {
   "cell_type": "markdown",
   "id": "94aed9d7",
   "metadata": {},
   "source": [
    "### Display count of movies and TV shows released on 2021"
   ]
  },
  {
   "cell_type": "code",
   "execution_count": 12,
   "id": "2fff0ade",
   "metadata": {},
   "outputs": [
    {
     "data": {
      "text/plain": [
       "TV Show    315\n",
       "Movie      277\n",
       "Name: type, dtype: int64"
      ]
     },
     "execution_count": 12,
     "metadata": {},
     "output_type": "execute_result"
    }
   ],
   "source": [
    "BM = data.release_year==2021\n",
    "data[BM].type.value_counts()"
   ]
  },
  {
   "cell_type": "markdown",
   "id": "104162fa",
   "metadata": {},
   "source": [
    "### Display the count of movies released on each countries "
   ]
  },
  {
   "cell_type": "code",
   "execution_count": 13,
   "id": "6d5e0246",
   "metadata": {},
   "outputs": [
    {
     "data": {
      "text/plain": [
       "United States                            2058\n",
       "India                                     893\n",
       "United Kingdom                            206\n",
       "Canada                                    122\n",
       "Spain                                      97\n",
       "                                         ... \n",
       "United Kingdom, Russia, United States       1\n",
       "Paraguay, Argentina                         1\n",
       "United Kingdom, Malawi                      1\n",
       "Austria, Iraq, United States                1\n",
       "United Arab Emirates, Jordan                1\n",
       "Name: country, Length: 651, dtype: int64"
      ]
     },
     "execution_count": 13,
     "metadata": {},
     "output_type": "execute_result"
    }
   ],
   "source": [
    "BM = data.type=='Movie'\n",
    "data[BM].country.value_counts()"
   ]
  },
  {
   "cell_type": "markdown",
   "id": "4937ae3f",
   "metadata": {},
   "source": [
    "### Display the rating of TV shows in each year"
   ]
  },
  {
   "cell_type": "code",
   "execution_count": 14,
   "id": "996aed37",
   "metadata": {},
   "outputs": [
    {
     "data": {
      "text/plain": [
       "2018    549\n",
       "2019    500\n",
       "2020    469\n",
       "2017    451\n",
       "2016    341\n",
       "2021    270\n",
       "2015    184\n",
       "2014     79\n",
       "2013     64\n",
       "2012     54\n",
       "2010     42\n",
       "2011     27\n",
       "2008     25\n",
       "2009     18\n",
       "2006     17\n",
       "2007     17\n",
       "2004     10\n",
       "2003      8\n",
       "2005      8\n",
       "1998      7\n",
       "2002      7\n",
       "1999      5\n",
       "1991      5\n",
       "1983      4\n",
       "1993      4\n",
       "1990      3\n",
       "1992      3\n",
       "1997      3\n",
       "1985      3\n",
       "1989      2\n",
       "1978      2\n",
       "1975      2\n",
       "1945      2\n",
       "1979      2\n",
       "2001      2\n",
       "1972      2\n",
       "1982      2\n",
       "1984      1\n",
       "1973      1\n",
       "1986      1\n",
       "1981      1\n",
       "1988      1\n",
       "1970      1\n",
       "1994      1\n",
       "1977      1\n",
       "2000      1\n",
       "1987      1\n",
       "1995      1\n",
       "1963      1\n",
       "1976      1\n",
       "1967      1\n",
       "Name: release_year, dtype: int64"
      ]
     },
     "execution_count": 14,
     "metadata": {},
     "output_type": "execute_result"
    }
   ],
   "source": [
    "BM = data.rating =='TV-MA'\n",
    "data[BM].release_year.value_counts()"
   ]
  },
  {
   "cell_type": "code",
   "execution_count": 15,
   "id": "ab6b768c",
   "metadata": {},
   "outputs": [
    {
     "data": {
      "text/plain": [
       "2018    31\n",
       "2011    18\n",
       "2014    15\n",
       "2017    15\n",
       "2020    15\n",
       "2013    14\n",
       "2016    14\n",
       "2019    12\n",
       "2021    11\n",
       "2015    11\n",
       "2007    10\n",
       "2008    10\n",
       "2009    10\n",
       "2010     8\n",
       "2006     8\n",
       "2004     8\n",
       "2012     7\n",
       "2005     5\n",
       "2001     5\n",
       "2003     5\n",
       "2002     4\n",
       "1976     4\n",
       "1984     4\n",
       "2000     4\n",
       "1993     4\n",
       "1989     3\n",
       "1994     3\n",
       "1992     3\n",
       "1981     2\n",
       "1975     2\n",
       "1982     2\n",
       "1995     2\n",
       "1978     2\n",
       "1977     2\n",
       "1986     2\n",
       "1999     2\n",
       "1983     1\n",
       "1974     1\n",
       "1973     1\n",
       "1997     1\n",
       "1980     1\n",
       "1979     1\n",
       "1985     1\n",
       "1991     1\n",
       "1990     1\n",
       "1996     1\n",
       "Name: release_year, dtype: int64"
      ]
     },
     "execution_count": 15,
     "metadata": {},
     "output_type": "execute_result"
    }
   ],
   "source": [
    "BM = data.rating =='PG'\n",
    "data[BM].release_year.value_counts()"
   ]
  },
  {
   "cell_type": "markdown",
   "id": "b58f2868",
   "metadata": {},
   "source": [
    "### No.of Movies released on September 24, 2021"
   ]
  },
  {
   "cell_type": "code",
   "execution_count": 16,
   "id": "79e10c41",
   "metadata": {},
   "outputs": [
    {
     "data": {
      "text/plain": [
       "TV Show    7\n",
       "Movie      3\n",
       "Name: type, dtype: int64"
      ]
     },
     "execution_count": 16,
     "metadata": {},
     "output_type": "execute_result"
    }
   ],
   "source": [
    "BM = data.date_added =='September 24, 2021'\n",
    "data[BM].type.value_counts()"
   ]
  },
  {
   "cell_type": "markdown",
   "id": "5f911c59",
   "metadata": {},
   "source": [
    "### No.of Movies/TV shows have 2 season"
   ]
  },
  {
   "cell_type": "code",
   "execution_count": 17,
   "id": "78135d22",
   "metadata": {},
   "outputs": [
    {
     "data": {
      "text/plain": [
       "TV Show    425\n",
       "Name: type, dtype: int64"
      ]
     },
     "execution_count": 17,
     "metadata": {},
     "output_type": "execute_result"
    }
   ],
   "source": [
    "BM = data.duration=='2 Seasons'\n",
    "data[BM].type.value_counts()"
   ]
  },
  {
   "cell_type": "markdown",
   "id": "241e9ac6",
   "metadata": {},
   "source": [
    "### No.of movies have 90 min duration"
   ]
  },
  {
   "cell_type": "code",
   "execution_count": 18,
   "id": "f4a3ae54",
   "metadata": {},
   "outputs": [
    {
     "data": {
      "text/plain": [
       "Movie    152\n",
       "Name: type, dtype: int64"
      ]
     },
     "execution_count": 18,
     "metadata": {},
     "output_type": "execute_result"
    }
   ],
   "source": [
    "BM = data.duration==\"90 min\"\n",
    "data[BM].type.value_counts()"
   ]
  },
  {
   "cell_type": "markdown",
   "id": "835324ca",
   "metadata": {},
   "source": [
    "### Display the countries which listed International TV Shows, TV Dramas, TV Mysteries"
   ]
  },
  {
   "cell_type": "code",
   "execution_count": 19,
   "id": "1c46474f",
   "metadata": {},
   "outputs": [
    {
     "data": {
      "text/plain": [
       "Japan                     2\n",
       "Egypt                     2\n",
       "Turkey                    2\n",
       "Belgium                   2\n",
       "Brazil                    2\n",
       "Taiwan, Malaysia          1\n",
       "Taiwan                    1\n",
       "Australia                 1\n",
       "France                    1\n",
       "Jordan                    1\n",
       "Germany                   1\n",
       "South Africa              1\n",
       "South Korea               1\n",
       "Russia                    1\n",
       "United Arab Emirates      1\n",
       "Iceland                   1\n",
       "Thailand                  1\n",
       "Canada                    1\n",
       "Denmark, United States    1\n",
       "Name: country, dtype: int64"
      ]
     },
     "execution_count": 19,
     "metadata": {},
     "output_type": "execute_result"
    }
   ],
   "source": [
    "BM = data.listed_in=='International TV Shows, TV Dramas, TV Mysteries'\n",
    "data[BM].country.value_counts()"
   ]
  },
  {
   "cell_type": "markdown",
   "id": "743c9c42",
   "metadata": {},
   "source": [
    "### Display movies and TV shows released on South Africa"
   ]
  },
  {
   "cell_type": "code",
   "execution_count": 20,
   "id": "bca48656",
   "metadata": {},
   "outputs": [
    {
     "data": {
      "text/plain": [
       "Blood & Water                             1\n",
       "Slay                                      1\n",
       "Vaya                                      1\n",
       "Kalushi: The Story of Solomon Mahlangu    1\n",
       "My Wife and I                             1\n",
       "Blitz Patrollie                           1\n",
       "Die Ontwaking                             1\n",
       "French Toast                              1\n",
       "Liefling                                  1\n",
       "Pretville                                 1\n",
       "Queen Sono                                1\n",
       "Pop, Lock 'n Roll                         1\n",
       "Uncovered                                 1\n",
       "All About Love                            1\n",
       "Baby Mamas                                1\n",
       "Tjovitjo                                  1\n",
       "Material                                  1\n",
       "Hole in the Wall                          1\n",
       "The Letter Reader                         1\n",
       "Seriously Single                          1\n",
       "Kandasamys: The Wedding                   1\n",
       "My Octopus Teacher                        1\n",
       "Cold Harbour                              1\n",
       "Kings of Jo'Burg                          1\n",
       "How To Ruin Christmas                     1\n",
       "Diamond City                              1\n",
       "Loyiso Gola: Unlearning                   1\n",
       "I Am All Girls                            1\n",
       "Trippin' with the Kandasamys              1\n",
       "Catching Feelings                         1\n",
       "Name: title, dtype: int64"
      ]
     },
     "execution_count": 20,
     "metadata": {},
     "output_type": "execute_result"
    }
   ],
   "source": [
    "BM = data.country=='South Africa'\n",
    "data[BM].title.value_counts()"
   ]
  },
  {
   "cell_type": "markdown",
   "id": "3610685e",
   "metadata": {},
   "source": [
    "# <center>JOINING AND MERGING"
   ]
  },
  {
   "cell_type": "markdown",
   "id": "fe94d5f2",
   "metadata": {},
   "source": [
    "### creating two dictionaries for building a data frame "
   ]
  },
  {
   "cell_type": "code",
   "execution_count": 21,
   "id": "677aaf76",
   "metadata": {},
   "outputs": [],
   "source": [
    "names = pd.DataFrame({\n",
    "'id':[1,2,3,4,5],\n",
    "'name':['Anna','Fahima','Sethu','Anumol','Angel'],\n",
    "})\n",
    "ages = pd.DataFrame({\n",
    "'id':[1,2,3,4,5],\n",
    " 'age':[22,23,22,24,25]   \n",
    "})"
   ]
  },
  {
   "cell_type": "markdown",
   "id": "b11e7701",
   "metadata": {},
   "source": [
    "#### If we have two data frame which are related to one another,we can combine it into one data frame,on the fact that both the dictionary have a common column that we can merge on,here it is id. "
   ]
  },
  {
   "cell_type": "code",
   "execution_count": 22,
   "id": "9cb91374",
   "metadata": {},
   "outputs": [
    {
     "data": {
      "text/html": [
       "<div>\n",
       "<style scoped>\n",
       "    .dataframe tbody tr th:only-of-type {\n",
       "        vertical-align: middle;\n",
       "    }\n",
       "\n",
       "    .dataframe tbody tr th {\n",
       "        vertical-align: top;\n",
       "    }\n",
       "\n",
       "    .dataframe thead th {\n",
       "        text-align: right;\n",
       "    }\n",
       "</style>\n",
       "<table border=\"1\" class=\"dataframe\">\n",
       "  <thead>\n",
       "    <tr style=\"text-align: right;\">\n",
       "      <th></th>\n",
       "      <th>name</th>\n",
       "      <th>age</th>\n",
       "    </tr>\n",
       "    <tr>\n",
       "      <th>id</th>\n",
       "      <th></th>\n",
       "      <th></th>\n",
       "    </tr>\n",
       "  </thead>\n",
       "  <tbody>\n",
       "    <tr>\n",
       "      <th>1</th>\n",
       "      <td>Anna</td>\n",
       "      <td>22</td>\n",
       "    </tr>\n",
       "    <tr>\n",
       "      <th>2</th>\n",
       "      <td>Fahima</td>\n",
       "      <td>23</td>\n",
       "    </tr>\n",
       "    <tr>\n",
       "      <th>3</th>\n",
       "      <td>Sethu</td>\n",
       "      <td>22</td>\n",
       "    </tr>\n",
       "    <tr>\n",
       "      <th>4</th>\n",
       "      <td>Anumol</td>\n",
       "      <td>24</td>\n",
       "    </tr>\n",
       "    <tr>\n",
       "      <th>5</th>\n",
       "      <td>Angel</td>\n",
       "      <td>25</td>\n",
       "    </tr>\n",
       "  </tbody>\n",
       "</table>\n",
       "</div>"
      ],
      "text/plain": [
       "      name  age\n",
       "id             \n",
       "1     Anna   22\n",
       "2   Fahima   23\n",
       "3    Sethu   22\n",
       "4   Anumol   24\n",
       "5    Angel   25"
      ]
     },
     "execution_count": 22,
     "metadata": {},
     "output_type": "execute_result"
    }
   ],
   "source": [
    "data = pd.merge(names,ages,on = 'id')\n",
    "data.set_index('id',inplace=True)\n",
    "data"
   ]
  },
  {
   "cell_type": "code",
   "execution_count": 23,
   "id": "7f4499eb",
   "metadata": {},
   "outputs": [],
   "source": [
    "names = pd.DataFrame({\n",
    "'id':[1,2,3,4,5,6],\n",
    "'name':['Anna','Fahima','Sethu','Anumol','Angel','maggy'],\n",
    "})\n",
    "ages = pd.DataFrame({\n",
    "'id':[1,2,3,4,5,7],\n",
    " 'age':[22,23,22,24,25,50]   \n",
    "})"
   ]
  },
  {
   "cell_type": "code",
   "execution_count": 24,
   "id": "29a0a885",
   "metadata": {},
   "outputs": [
    {
     "data": {
      "text/html": [
       "<div>\n",
       "<style scoped>\n",
       "    .dataframe tbody tr th:only-of-type {\n",
       "        vertical-align: middle;\n",
       "    }\n",
       "\n",
       "    .dataframe tbody tr th {\n",
       "        vertical-align: top;\n",
       "    }\n",
       "\n",
       "    .dataframe thead th {\n",
       "        text-align: right;\n",
       "    }\n",
       "</style>\n",
       "<table border=\"1\" class=\"dataframe\">\n",
       "  <thead>\n",
       "    <tr style=\"text-align: right;\">\n",
       "      <th></th>\n",
       "      <th>name</th>\n",
       "      <th>age</th>\n",
       "    </tr>\n",
       "    <tr>\n",
       "      <th>id</th>\n",
       "      <th></th>\n",
       "      <th></th>\n",
       "    </tr>\n",
       "  </thead>\n",
       "  <tbody>\n",
       "    <tr>\n",
       "      <th>1</th>\n",
       "      <td>Anna</td>\n",
       "      <td>22</td>\n",
       "    </tr>\n",
       "    <tr>\n",
       "      <th>2</th>\n",
       "      <td>Fahima</td>\n",
       "      <td>23</td>\n",
       "    </tr>\n",
       "    <tr>\n",
       "      <th>3</th>\n",
       "      <td>Sethu</td>\n",
       "      <td>22</td>\n",
       "    </tr>\n",
       "    <tr>\n",
       "      <th>4</th>\n",
       "      <td>Anumol</td>\n",
       "      <td>24</td>\n",
       "    </tr>\n",
       "    <tr>\n",
       "      <th>5</th>\n",
       "      <td>Angel</td>\n",
       "      <td>25</td>\n",
       "    </tr>\n",
       "  </tbody>\n",
       "</table>\n",
       "</div>"
      ],
      "text/plain": [
       "      name  age\n",
       "id             \n",
       "1     Anna   22\n",
       "2   Fahima   23\n",
       "3    Sethu   22\n",
       "4   Anumol   24\n",
       "5    Angel   25"
      ]
     },
     "execution_count": 24,
     "metadata": {},
     "output_type": "execute_result"
    }
   ],
   "source": [
    "data = pd.merge(names,ages,on='id', how = 'inner')\n",
    "data.set_index('id',inplace=True)\n",
    "data"
   ]
  },
  {
   "cell_type": "markdown",
   "id": "cd05e86c",
   "metadata": {},
   "source": [
    "#### If we perform the default inner join,we will end up with same data frame as in the begining.Here we only take the keys which both object have that means one to five."
   ]
  },
  {
   "cell_type": "code",
   "execution_count": 25,
   "id": "08c7facf",
   "metadata": {},
   "outputs": [
    {
     "data": {
      "text/html": [
       "<div>\n",
       "<style scoped>\n",
       "    .dataframe tbody tr th:only-of-type {\n",
       "        vertical-align: middle;\n",
       "    }\n",
       "\n",
       "    .dataframe tbody tr th {\n",
       "        vertical-align: top;\n",
       "    }\n",
       "\n",
       "    .dataframe thead th {\n",
       "        text-align: right;\n",
       "    }\n",
       "</style>\n",
       "<table border=\"1\" class=\"dataframe\">\n",
       "  <thead>\n",
       "    <tr style=\"text-align: right;\">\n",
       "      <th></th>\n",
       "      <th>name</th>\n",
       "      <th>age</th>\n",
       "    </tr>\n",
       "    <tr>\n",
       "      <th>id</th>\n",
       "      <th></th>\n",
       "      <th></th>\n",
       "    </tr>\n",
       "  </thead>\n",
       "  <tbody>\n",
       "    <tr>\n",
       "      <th>1</th>\n",
       "      <td>Anna</td>\n",
       "      <td>22.0</td>\n",
       "    </tr>\n",
       "    <tr>\n",
       "      <th>2</th>\n",
       "      <td>Fahima</td>\n",
       "      <td>23.0</td>\n",
       "    </tr>\n",
       "    <tr>\n",
       "      <th>3</th>\n",
       "      <td>Sethu</td>\n",
       "      <td>22.0</td>\n",
       "    </tr>\n",
       "    <tr>\n",
       "      <th>4</th>\n",
       "      <td>Anumol</td>\n",
       "      <td>24.0</td>\n",
       "    </tr>\n",
       "    <tr>\n",
       "      <th>5</th>\n",
       "      <td>Angel</td>\n",
       "      <td>25.0</td>\n",
       "    </tr>\n",
       "    <tr>\n",
       "      <th>6</th>\n",
       "      <td>maggy</td>\n",
       "      <td>NaN</td>\n",
       "    </tr>\n",
       "  </tbody>\n",
       "</table>\n",
       "</div>"
      ],
      "text/plain": [
       "      name   age\n",
       "id              \n",
       "1     Anna  22.0\n",
       "2   Fahima  23.0\n",
       "3    Sethu  22.0\n",
       "4   Anumol  24.0\n",
       "5    Angel  25.0\n",
       "6    maggy   NaN"
      ]
     },
     "execution_count": 25,
     "metadata": {},
     "output_type": "execute_result"
    }
   ],
   "source": [
    "data = pd.merge(names,ages, on='id',how='left')\n",
    "data.set_index('id',inplace=True)\n",
    "data"
   ]
  },
  {
   "cell_type": "markdown",
   "id": "a8006056",
   "metadata": {},
   "source": [
    "#### Here we get all the keys from names but not all ages are indexed."
   ]
  },
  {
   "cell_type": "code",
   "execution_count": 26,
   "id": "2606519f",
   "metadata": {},
   "outputs": [
    {
     "data": {
      "text/html": [
       "<div>\n",
       "<style scoped>\n",
       "    .dataframe tbody tr th:only-of-type {\n",
       "        vertical-align: middle;\n",
       "    }\n",
       "\n",
       "    .dataframe tbody tr th {\n",
       "        vertical-align: top;\n",
       "    }\n",
       "\n",
       "    .dataframe thead th {\n",
       "        text-align: right;\n",
       "    }\n",
       "</style>\n",
       "<table border=\"1\" class=\"dataframe\">\n",
       "  <thead>\n",
       "    <tr style=\"text-align: right;\">\n",
       "      <th></th>\n",
       "      <th>name</th>\n",
       "      <th>age</th>\n",
       "    </tr>\n",
       "    <tr>\n",
       "      <th>id</th>\n",
       "      <th></th>\n",
       "      <th></th>\n",
       "    </tr>\n",
       "  </thead>\n",
       "  <tbody>\n",
       "    <tr>\n",
       "      <th>1</th>\n",
       "      <td>Anna</td>\n",
       "      <td>22</td>\n",
       "    </tr>\n",
       "    <tr>\n",
       "      <th>2</th>\n",
       "      <td>Fahima</td>\n",
       "      <td>23</td>\n",
       "    </tr>\n",
       "    <tr>\n",
       "      <th>3</th>\n",
       "      <td>Sethu</td>\n",
       "      <td>22</td>\n",
       "    </tr>\n",
       "    <tr>\n",
       "      <th>4</th>\n",
       "      <td>Anumol</td>\n",
       "      <td>24</td>\n",
       "    </tr>\n",
       "    <tr>\n",
       "      <th>5</th>\n",
       "      <td>Angel</td>\n",
       "      <td>25</td>\n",
       "    </tr>\n",
       "    <tr>\n",
       "      <th>7</th>\n",
       "      <td>NaN</td>\n",
       "      <td>50</td>\n",
       "    </tr>\n",
       "  </tbody>\n",
       "</table>\n",
       "</div>"
      ],
      "text/plain": [
       "      name  age\n",
       "id             \n",
       "1     Anna   22\n",
       "2   Fahima   23\n",
       "3    Sethu   22\n",
       "4   Anumol   24\n",
       "5    Angel   25\n",
       "7      NaN   50"
      ]
     },
     "execution_count": 26,
     "metadata": {},
     "output_type": "execute_result"
    }
   ],
   "source": [
    "data = pd.merge(names,ages, on='id',how='right')\n",
    "data.set_index('id',inplace=True)\n",
    "data"
   ]
  },
  {
   "cell_type": "markdown",
   "id": "f84b3b7c",
   "metadata": {},
   "source": [
    "#### Here we get all keys of ages but not all names are indexed  "
   ]
  },
  {
   "cell_type": "code",
   "execution_count": 27,
   "id": "d0e0e965",
   "metadata": {},
   "outputs": [
    {
     "data": {
      "text/html": [
       "<div>\n",
       "<style scoped>\n",
       "    .dataframe tbody tr th:only-of-type {\n",
       "        vertical-align: middle;\n",
       "    }\n",
       "\n",
       "    .dataframe tbody tr th {\n",
       "        vertical-align: top;\n",
       "    }\n",
       "\n",
       "    .dataframe thead th {\n",
       "        text-align: right;\n",
       "    }\n",
       "</style>\n",
       "<table border=\"1\" class=\"dataframe\">\n",
       "  <thead>\n",
       "    <tr style=\"text-align: right;\">\n",
       "      <th></th>\n",
       "      <th>name</th>\n",
       "      <th>age</th>\n",
       "    </tr>\n",
       "    <tr>\n",
       "      <th>id</th>\n",
       "      <th></th>\n",
       "      <th></th>\n",
       "    </tr>\n",
       "  </thead>\n",
       "  <tbody>\n",
       "    <tr>\n",
       "      <th>1</th>\n",
       "      <td>Anna</td>\n",
       "      <td>22.0</td>\n",
       "    </tr>\n",
       "    <tr>\n",
       "      <th>2</th>\n",
       "      <td>Fahima</td>\n",
       "      <td>23.0</td>\n",
       "    </tr>\n",
       "    <tr>\n",
       "      <th>3</th>\n",
       "      <td>Sethu</td>\n",
       "      <td>22.0</td>\n",
       "    </tr>\n",
       "    <tr>\n",
       "      <th>4</th>\n",
       "      <td>Anumol</td>\n",
       "      <td>24.0</td>\n",
       "    </tr>\n",
       "    <tr>\n",
       "      <th>5</th>\n",
       "      <td>Angel</td>\n",
       "      <td>25.0</td>\n",
       "    </tr>\n",
       "    <tr>\n",
       "      <th>6</th>\n",
       "      <td>maggy</td>\n",
       "      <td>NaN</td>\n",
       "    </tr>\n",
       "    <tr>\n",
       "      <th>7</th>\n",
       "      <td>NaN</td>\n",
       "      <td>50.0</td>\n",
       "    </tr>\n",
       "  </tbody>\n",
       "</table>\n",
       "</div>"
      ],
      "text/plain": [
       "      name   age\n",
       "id              \n",
       "1     Anna  22.0\n",
       "2   Fahima  23.0\n",
       "3    Sethu  22.0\n",
       "4   Anumol  24.0\n",
       "5    Angel  25.0\n",
       "6    maggy   NaN\n",
       "7      NaN  50.0"
      ]
     },
     "execution_count": 27,
     "metadata": {},
     "output_type": "execute_result"
    }
   ],
   "source": [
    "data = pd.merge(names,ages, on = 'id',how = 'outer')\n",
    "data.set_index('id',inplace=True)\n",
    "data"
   ]
  },
  {
   "cell_type": "markdown",
   "id": "3a6d523e",
   "metadata": {},
   "source": [
    "#### Here we combine both the left and right merged data frames in to a single data frame."
   ]
  }
 ],
 "metadata": {
  "kernelspec": {
   "display_name": "Python 3 (ipykernel)",
   "language": "python",
   "name": "python3"
  },
  "language_info": {
   "codemirror_mode": {
    "name": "ipython",
    "version": 3
   },
   "file_extension": ".py",
   "mimetype": "text/x-python",
   "name": "python",
   "nbconvert_exporter": "python",
   "pygments_lexer": "ipython3",
   "version": "3.9.13"
  }
 },
 "nbformat": 4,
 "nbformat_minor": 5
}
