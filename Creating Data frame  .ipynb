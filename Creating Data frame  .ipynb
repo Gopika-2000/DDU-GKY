{
 "cells": [
  {
   "cell_type": "markdown",
   "id": "cee82c10",
   "metadata": {},
   "source": [
    "# creating data frame"
   ]
  },
  {
   "cell_type": "code",
   "execution_count": null,
   "id": "c7cdf3c6",
   "metadata": {},
   "outputs": [],
   "source": [
    "import pandas as pd\n",
    "import numpy as np\n"
   ]
  },
  {
   "cell_type": "markdown",
   "id": "97c3fb5f",
   "metadata": {},
   "source": [
    "# finding data type"
   ]
  },
  {
   "cell_type": "code",
   "execution_count": 8,
   "id": "ba37f417",
   "metadata": {},
   "outputs": [
    {
     "name": "stdout",
     "output_type": "stream",
     "text": [
      "int64\n"
     ]
    }
   ],
   "source": [
    "series=pd.Series([1,2,3,4,5,6,7,8,9])\n",
    "print(series.dtype)"
   ]
  },
  {
   "cell_type": "markdown",
   "id": "20da4b6b",
   "metadata": {},
   "source": [
    "# converting to list"
   ]
  },
  {
   "cell_type": "code",
   "execution_count": 9,
   "id": "0cb1e24f",
   "metadata": {},
   "outputs": [
    {
     "name": "stdout",
     "output_type": "stream",
     "text": [
      "[1, 2, 3, 4, 5, 6, 7, 8, 9]\n"
     ]
    }
   ],
   "source": [
    "print(series.tolist())"
   ]
  },
  {
   "cell_type": "markdown",
   "id": "b05a262b",
   "metadata": {},
   "source": [
    "# creating null data frame"
   ]
  },
  {
   "cell_type": "code",
   "execution_count": 12,
   "id": "12f07f25",
   "metadata": {},
   "outputs": [
    {
     "name": "stdout",
     "output_type": "stream",
     "text": [
      "Empty DataFrame\n",
      "Columns: []\n",
      "Index: []\n"
     ]
    }
   ],
   "source": [
    "DF=pd.DataFrame()\n",
    "print(DF)"
   ]
  },
  {
   "cell_type": "markdown",
   "id": "a1f05c58",
   "metadata": {},
   "source": [
    "# data frame of scores"
   ]
  },
  {
   "cell_type": "code",
   "execution_count": 13,
   "id": "a342a794",
   "metadata": {},
   "outputs": [
    {
     "name": "stdout",
     "output_type": "stream",
     "text": [
      "    subjects  scores grades\n",
      "0      maths      50     B+\n",
      "1     social      55     B+\n",
      "2    english      56     B+\n",
      "3      hindi      80     A+\n",
      "4  malayalam      70      A\n",
      "5         IT     100     A+\n",
      "6        phy      35     A+\n",
      "7       chem      25     B+\n",
      "8        bio      36     A+\n",
      "9   sanskrit      40     A+\n"
     ]
    }
   ],
   "source": [
    "scores=[['maths',50,'B+'],['social',55,'B+'],['english',56,'B+'],['hindi',80,'A+'],['malayalam',70,'A'],\\\n",
    "        ['IT',100,'A+'],['phy',35,'A+'],['chem',25,'B+'],['bio',36,'A+'],['sanskrit',40,'A+']]\n",
    "my_sereies=pd.DataFrame(scores,columns=['subjects','scores','grades'])\n",
    "print(my_sereies)"
   ]
  },
  {
   "cell_type": "markdown",
   "id": "5b5dfb81",
   "metadata": {},
   "source": [
    "# data frame of skill rating"
   ]
  },
  {
   "cell_type": "code",
   "execution_count": 14,
   "id": "7528f70f",
   "metadata": {},
   "outputs": [
    {
     "name": "stdout",
     "output_type": "stream",
     "text": [
      "          skills     review  rate\n",
      "0       language  excellent     5\n",
      "1  interpersonal       good     4\n",
      "2     leadership       good     4\n"
     ]
    }
   ],
   "source": [
    "marks=[['language','excellent',5],['interpersonal','good',4],['leadership','good',4]]\n",
    "GOPIKA=pd.DataFrame(marks,columns=['skills','review','rate'])\n",
    "print(GOPIKA)"
   ]
  },
  {
   "cell_type": "markdown",
   "id": "0a1df19b",
   "metadata": {},
   "source": [
    "# data frame using dictionary"
   ]
  },
  {
   "cell_type": "code",
   "execution_count": 16,
   "id": "4ad92477",
   "metadata": {},
   "outputs": [
    {
     "name": "stdout",
     "output_type": "stream",
     "text": [
      "  subjects  scores\n",
      "0    maths      98\n",
      "1  science      97\n",
      "2   social      96\n"
     ]
    }
   ],
   "source": [
    "marks={\n",
    "'subjects':['maths','science','social'],\n",
    "'scores':[98,97,96]\n",
    "}\n",
    "fahima=pd.DataFrame(marks)\n",
    "print(fahima)"
   ]
  },
  {
   "cell_type": "markdown",
   "id": "33282f33",
   "metadata": {},
   "source": [
    "# data frame using list of dictionaries"
   ]
  },
  {
   "cell_type": "code",
   "execution_count": 19,
   "id": "d3a75664",
   "metadata": {},
   "outputs": [
    {
     "name": "stdout",
     "output_type": "stream",
     "text": [
      "      subject  score\n",
      "0       maths     66\n",
      "1     history     65\n",
      "2   geography     23\n",
      "3  phylosophy     25\n"
     ]
    }
   ],
   "source": [
    "marks=[\n",
    "    {'subject':'maths','score':66},\n",
    "{'subject':'history','score':65},\n",
    "{'subject':'geography','score':23},\n",
    "{'subject':'phylosophy','score':25},\n",
    "]\n",
    "fahina=pd.DataFrame(marks)\n",
    "print(fahina)"
   ]
  },
  {
   "cell_type": "code",
   "execution_count": null,
   "id": "3d44317e",
   "metadata": {},
   "outputs": [],
   "source": []
  }
 ],
 "metadata": {
  "kernelspec": {
   "display_name": "Python 3 (ipykernel)",
   "language": "python",
   "name": "python3"
  },
  "language_info": {
   "codemirror_mode": {
    "name": "ipython",
    "version": 3
   },
   "file_extension": ".py",
   "mimetype": "text/x-python",
   "name": "python",
   "nbconvert_exporter": "python",
   "pygments_lexer": "ipython3",
   "version": "3.9.13"
  }
 },
 "nbformat": 4,
 "nbformat_minor": 5
}
