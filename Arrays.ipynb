{
 "cells": [
  {
   "cell_type": "markdown",
   "id": "fe0a99fb",
   "metadata": {},
   "source": [
    "# <center> Array"
   ]
  },
  {
   "cell_type": "code",
   "execution_count": 1,
   "id": "88dfefa1",
   "metadata": {},
   "outputs": [],
   "source": [
    "import numpy as np"
   ]
  },
  {
   "cell_type": "markdown",
   "id": "2922d4a9",
   "metadata": {},
   "source": [
    "#### 1 Dimensional array"
   ]
  },
  {
   "cell_type": "code",
   "execution_count": 2,
   "id": "218ebeb1",
   "metadata": {},
   "outputs": [
    {
     "data": {
      "text/plain": [
       "array([ 2,  3, 54,  7, 25])"
      ]
     },
     "execution_count": 2,
     "metadata": {},
     "output_type": "execute_result"
    }
   ],
   "source": [
    "a = np.array([2,3,54,7,25])\n",
    "a"
   ]
  },
  {
   "cell_type": "markdown",
   "id": "ddab1655",
   "metadata": {},
   "source": [
    "#### Attributes of array"
   ]
  },
  {
   "cell_type": "code",
   "execution_count": 3,
   "id": "54b15d19",
   "metadata": {},
   "outputs": [
    {
     "data": {
      "text/plain": [
       "dtype('int32')"
      ]
     },
     "execution_count": 3,
     "metadata": {},
     "output_type": "execute_result"
    }
   ],
   "source": [
    "# to check the type\n",
    "a.dtype"
   ]
  },
  {
   "cell_type": "code",
   "execution_count": 4,
   "id": "ad3a8331",
   "metadata": {},
   "outputs": [
    {
     "data": {
      "text/plain": [
       "(5,)"
      ]
     },
     "execution_count": 4,
     "metadata": {},
     "output_type": "execute_result"
    }
   ],
   "source": [
    "# to check the shape\n",
    "a.shape"
   ]
  },
  {
   "cell_type": "code",
   "execution_count": 5,
   "id": "b4d0d3fb",
   "metadata": {},
   "outputs": [
    {
     "data": {
      "text/plain": [
       "1"
      ]
     },
     "execution_count": 5,
     "metadata": {},
     "output_type": "execute_result"
    }
   ],
   "source": [
    "# to check the dimension\n",
    "a.ndim"
   ]
  },
  {
   "cell_type": "code",
   "execution_count": 6,
   "id": "712a4441",
   "metadata": {},
   "outputs": [
    {
     "data": {
      "text/plain": [
       "5"
      ]
     },
     "execution_count": 6,
     "metadata": {},
     "output_type": "execute_result"
    }
   ],
   "source": [
    "# to check the size\n",
    "a.size"
   ]
  },
  {
   "cell_type": "code",
   "execution_count": 7,
   "id": "58ca6834",
   "metadata": {},
   "outputs": [
    {
     "data": {
      "text/plain": [
       "2"
      ]
     },
     "execution_count": 7,
     "metadata": {},
     "output_type": "execute_result"
    }
   ],
   "source": [
    "# to find the value corresponding to the index number\n",
    "a[0]"
   ]
  },
  {
   "cell_type": "markdown",
   "id": "7d33cd9b",
   "metadata": {},
   "source": [
    "#### Multidimenional array"
   ]
  },
  {
   "cell_type": "code",
   "execution_count": 8,
   "id": "484503d1",
   "metadata": {},
   "outputs": [
    {
     "data": {
      "text/plain": [
       "array([[ 1,  2,  3, 45,  5],\n",
       "       [ 2,  5,  8,  9,  5]])"
      ]
     },
     "execution_count": 8,
     "metadata": {},
     "output_type": "execute_result"
    }
   ],
   "source": [
    "a_2D = np.array([[1,2,3,45,5],[2,5,8,9,5]])\n",
    "a_2D"
   ]
  },
  {
   "cell_type": "code",
   "execution_count": 9,
   "id": "370feacf",
   "metadata": {},
   "outputs": [
    {
     "data": {
      "text/plain": [
       "2"
      ]
     },
     "execution_count": 9,
     "metadata": {},
     "output_type": "execute_result"
    }
   ],
   "source": [
    "a_2D.ndim"
   ]
  },
  {
   "cell_type": "code",
   "execution_count": 10,
   "id": "8bf60622",
   "metadata": {},
   "outputs": [
    {
     "data": {
      "text/plain": [
       "(2, 5)"
      ]
     },
     "execution_count": 10,
     "metadata": {},
     "output_type": "execute_result"
    }
   ],
   "source": [
    "a_2D.shape"
   ]
  },
  {
   "cell_type": "code",
   "execution_count": 11,
   "id": "c663b439",
   "metadata": {},
   "outputs": [
    {
     "data": {
      "text/plain": [
       "10"
      ]
     },
     "execution_count": 11,
     "metadata": {},
     "output_type": "execute_result"
    }
   ],
   "source": [
    "a_2D.size"
   ]
  },
  {
   "cell_type": "code",
   "execution_count": 12,
   "id": "16a4f15c",
   "metadata": {},
   "outputs": [
    {
     "data": {
      "text/plain": [
       "3"
      ]
     },
     "execution_count": 12,
     "metadata": {},
     "output_type": "execute_result"
    }
   ],
   "source": [
    "# to obtain second element in first row\n",
    "a_2D[0][2]"
   ]
  },
  {
   "cell_type": "code",
   "execution_count": 13,
   "id": "3fbaa5cc",
   "metadata": {},
   "outputs": [
    {
     "data": {
      "text/plain": [
       "9"
      ]
     },
     "execution_count": 13,
     "metadata": {},
     "output_type": "execute_result"
    }
   ],
   "source": [
    "# to obtain fourth element in second row\n",
    "a_2D[1][3]"
   ]
  },
  {
   "cell_type": "markdown",
   "id": "95052d10",
   "metadata": {},
   "source": [
    "#### Another type of multi dimensional array"
   ]
  },
  {
   "cell_type": "code",
   "execution_count": 14,
   "id": "fc0195ef",
   "metadata": {},
   "outputs": [
    {
     "data": {
      "text/plain": [
       "array([[[[2, 4, 5, 7],\n",
       "         [2, 3, 4, 5]]]])"
      ]
     },
     "execution_count": 14,
     "metadata": {},
     "output_type": "execute_result"
    }
   ],
   "source": [
    "b = np.array([[[[2,4,5,7],[2,3,4,5]]]])\n",
    "b"
   ]
  },
  {
   "cell_type": "code",
   "execution_count": 15,
   "id": "427f517d",
   "metadata": {},
   "outputs": [
    {
     "data": {
      "text/plain": [
       "4"
      ]
     },
     "execution_count": 15,
     "metadata": {},
     "output_type": "execute_result"
    }
   ],
   "source": [
    "b.ndim"
   ]
  },
  {
   "cell_type": "code",
   "execution_count": 16,
   "id": "20e04b00",
   "metadata": {},
   "outputs": [
    {
     "data": {
      "text/plain": [
       "(1, 1, 2, 4)"
      ]
     },
     "execution_count": 16,
     "metadata": {},
     "output_type": "execute_result"
    }
   ],
   "source": [
    "b.shape"
   ]
  },
  {
   "cell_type": "code",
   "execution_count": 17,
   "id": "e5ecb0f4",
   "metadata": {},
   "outputs": [
    {
     "data": {
      "text/plain": [
       "8"
      ]
     },
     "execution_count": 17,
     "metadata": {},
     "output_type": "execute_result"
    }
   ],
   "source": [
    "b.size"
   ]
  },
  {
   "cell_type": "code",
   "execution_count": 18,
   "id": "ddd5d7ee",
   "metadata": {},
   "outputs": [
    {
     "data": {
      "text/plain": [
       "4"
      ]
     },
     "execution_count": 18,
     "metadata": {},
     "output_type": "execute_result"
    }
   ],
   "source": [
    "b[0][0][0][1]"
   ]
  },
  {
   "cell_type": "code",
   "execution_count": 19,
   "id": "2085cc6c",
   "metadata": {},
   "outputs": [
    {
     "data": {
      "text/plain": [
       "3"
      ]
     },
     "execution_count": 19,
     "metadata": {},
     "output_type": "execute_result"
    }
   ],
   "source": [
    "b[0][0][1][1]"
   ]
  },
  {
   "cell_type": "markdown",
   "id": "a3ba9006",
   "metadata": {},
   "source": [
    "#### Big array"
   ]
  },
  {
   "cell_type": "code",
   "execution_count": 20,
   "id": "92706f78",
   "metadata": {},
   "outputs": [],
   "source": [
    "a_D = np.array([\n",
    "[\n",
    "[1,2,3,4,5,6]\n",
    "],\n",
    "[\n",
    "[2,3,4,5,6,5]\n",
    "],\n",
    "[\n",
    "[2,5,6,6,5,6]\n",
    "]\n",
    "],dtype=float)"
   ]
  },
  {
   "cell_type": "code",
   "execution_count": 21,
   "id": "124bf251",
   "metadata": {},
   "outputs": [
    {
     "data": {
      "text/plain": [
       "array([[[1., 2., 3., 4., 5., 6.]],\n",
       "\n",
       "       [[2., 3., 4., 5., 6., 5.]],\n",
       "\n",
       "       [[2., 5., 6., 6., 5., 6.]]])"
      ]
     },
     "execution_count": 21,
     "metadata": {},
     "output_type": "execute_result"
    }
   ],
   "source": [
    "a_D"
   ]
  },
  {
   "cell_type": "code",
   "execution_count": 22,
   "id": "89898463",
   "metadata": {},
   "outputs": [
    {
     "data": {
      "text/plain": [
       "3"
      ]
     },
     "execution_count": 22,
     "metadata": {},
     "output_type": "execute_result"
    }
   ],
   "source": [
    "a_D.ndim"
   ]
  },
  {
   "cell_type": "code",
   "execution_count": 23,
   "id": "2a78e859",
   "metadata": {},
   "outputs": [
    {
     "data": {
      "text/plain": [
       "(3, 1, 6)"
      ]
     },
     "execution_count": 23,
     "metadata": {},
     "output_type": "execute_result"
    }
   ],
   "source": [
    "a_D.shape"
   ]
  },
  {
   "cell_type": "code",
   "execution_count": 24,
   "id": "63307ed2",
   "metadata": {},
   "outputs": [],
   "source": [
    "np.set_printoptions(suppress=True)"
   ]
  },
  {
   "cell_type": "code",
   "execution_count": 25,
   "id": "d279a509",
   "metadata": {},
   "outputs": [
    {
     "data": {
      "text/plain": [
       "array([[[   1.,    2.,    3.,    5.],\n",
       "        [   1.,    5.,    6.,    3.],\n",
       "        [  15.,   65.,   74.,    6.]],\n",
       "\n",
       "       [[  48.,   55.,  652., 5563.],\n",
       "        [   2.,  654.,   63.,   53.],\n",
       "        [  45.,    5.,    6.,    1.]]])"
      ]
     },
     "execution_count": 25,
     "metadata": {},
     "output_type": "execute_result"
    }
   ],
   "source": [
    "b_D = np.array([\n",
    "[\n",
    "[1,2,3,5],[1,5,6,3],[15,65,74,6]\n",
    "],\n",
    "[\n",
    "[48,55,652,5563],[2,654,63,53],[45,5,6,1]\n",
    "]\n",
    "],dtype=float)\n",
    "b_D"
   ]
  },
  {
   "cell_type": "code",
   "execution_count": 26,
   "id": "48455bd6",
   "metadata": {},
   "outputs": [
    {
     "data": {
      "text/plain": [
       "3"
      ]
     },
     "execution_count": 26,
     "metadata": {},
     "output_type": "execute_result"
    }
   ],
   "source": [
    "b_D.ndim"
   ]
  },
  {
   "cell_type": "code",
   "execution_count": 27,
   "id": "1250430c",
   "metadata": {},
   "outputs": [
    {
     "data": {
      "text/plain": [
       "(2, 3, 4)"
      ]
     },
     "execution_count": 27,
     "metadata": {},
     "output_type": "execute_result"
    }
   ],
   "source": [
    "b_D.shape"
   ]
  },
  {
   "cell_type": "markdown",
   "id": "b776154c",
   "metadata": {},
   "source": [
    "#### Filling arrays"
   ]
  },
  {
   "cell_type": "code",
   "execution_count": 28,
   "id": "06d99b2d",
   "metadata": {},
   "outputs": [
    {
     "data": {
      "text/plain": [
       "array([[[5, 5, 5],\n",
       "        [5, 5, 5]],\n",
       "\n",
       "       [[5, 5, 5],\n",
       "        [5, 5, 5]],\n",
       "\n",
       "       [[5, 5, 5],\n",
       "        [5, 5, 5]]])"
      ]
     },
     "execution_count": 28,
     "metadata": {},
     "output_type": "execute_result"
    }
   ],
   "source": [
    "# to fill a certain number by which shape and the number to be fill is already mentioned.\n",
    "a_full = np.full((3,2,3),5)\n",
    "a_full"
   ]
  },
  {
   "cell_type": "code",
   "execution_count": 29,
   "id": "acb0ca17",
   "metadata": {},
   "outputs": [
    {
     "data": {
      "text/plain": [
       "array([[[5, 5, 5, 5],\n",
       "        [5, 5, 5, 5],\n",
       "        [5, 5, 5, 5],\n",
       "        [5, 5, 5, 5]],\n",
       "\n",
       "       [[5, 5, 5, 5],\n",
       "        [5, 5, 5, 5],\n",
       "        [5, 5, 5, 5],\n",
       "        [5, 5, 5, 5]],\n",
       "\n",
       "       [[5, 5, 5, 5],\n",
       "        [5, 5, 5, 5],\n",
       "        [5, 5, 5, 5],\n",
       "        [5, 5, 5, 5]]])"
      ]
     },
     "execution_count": 29,
     "metadata": {},
     "output_type": "execute_result"
    }
   ],
   "source": [
    "full=np.full((3,4,4),5)\n",
    "full"
   ]
  },
  {
   "cell_type": "code",
   "execution_count": 30,
   "id": "fdeb197f",
   "metadata": {},
   "outputs": [
    {
     "data": {
      "text/plain": [
       "array([[[0., 0., 0., 0., 0.],\n",
       "        [0., 0., 0., 0., 0.],\n",
       "        [0., 0., 0., 0., 0.],\n",
       "        [0., 0., 0., 0., 0.]],\n",
       "\n",
       "       [[0., 0., 0., 0., 0.],\n",
       "        [0., 0., 0., 0., 0.],\n",
       "        [0., 0., 0., 0., 0.],\n",
       "        [0., 0., 0., 0., 0.]],\n",
       "\n",
       "       [[0., 0., 0., 0., 0.],\n",
       "        [0., 0., 0., 0., 0.],\n",
       "        [0., 0., 0., 0., 0.],\n",
       "        [0., 0., 0., 0., 0.]]])"
      ]
     },
     "execution_count": 30,
     "metadata": {},
     "output_type": "execute_result"
    }
   ],
   "source": [
    "# here the array is full of zero for a specified dimension,row and column\n",
    "a_zero = np.zeros((3,4,5))\n",
    "a_zero"
   ]
  },
  {
   "cell_type": "code",
   "execution_count": 31,
   "id": "8d129020",
   "metadata": {},
   "outputs": [
    {
     "data": {
      "text/plain": [
       "array([[[1., 1., 1., 1., 1.],\n",
       "        [1., 1., 1., 1., 1.],\n",
       "        [1., 1., 1., 1., 1.],\n",
       "        [1., 1., 1., 1., 1.]],\n",
       "\n",
       "       [[1., 1., 1., 1., 1.],\n",
       "        [1., 1., 1., 1., 1.],\n",
       "        [1., 1., 1., 1., 1.],\n",
       "        [1., 1., 1., 1., 1.]],\n",
       "\n",
       "       [[1., 1., 1., 1., 1.],\n",
       "        [1., 1., 1., 1., 1.],\n",
       "        [1., 1., 1., 1., 1.],\n",
       "        [1., 1., 1., 1., 1.]]])"
      ]
     },
     "execution_count": 31,
     "metadata": {},
     "output_type": "execute_result"
    }
   ],
   "source": [
    "a_ones = np.ones((3,4,5))\n",
    "a_ones"
   ]
  },
  {
   "cell_type": "markdown",
   "id": "c3bf81f9",
   "metadata": {},
   "source": [
    "#### Empty and random "
   ]
  },
  {
   "cell_type": "code",
   "execution_count": 32,
   "id": "e9013fc0",
   "metadata": {},
   "outputs": [
    {
     "data": {
      "text/plain": [
       "array([[0., 0.],\n",
       "       [0., 0.],\n",
       "       [0., 0.]])"
      ]
     },
     "execution_count": 32,
     "metadata": {},
     "output_type": "execute_result"
    }
   ],
   "source": [
    "empty = np.empty((3,2))\n",
    "empty"
   ]
  },
  {
   "cell_type": "code",
   "execution_count": 33,
   "id": "47c5c089",
   "metadata": {},
   "outputs": [
    {
     "data": {
      "text/plain": [
       "array([[[0.38153893, 0.43977228, 0.95894912, 0.25997725],\n",
       "        [0.82152736, 0.66146437, 0.00917159, 0.02291781],\n",
       "        [0.99466373, 0.66023709, 0.84780767, 0.66585883]],\n",
       "\n",
       "       [[0.208141  , 0.88146654, 0.7551307 , 0.39806214],\n",
       "        [0.32656947, 0.82147556, 0.40841155, 0.64889164],\n",
       "        [0.97333684, 0.73705289, 0.9343921 , 0.95773719]],\n",
       "\n",
       "       [[0.51421888, 0.02913113, 0.1628235 , 0.48886388],\n",
       "        [0.00055967, 0.60728947, 0.09423565, 0.55278038],\n",
       "        [0.73841765, 0.37455158, 0.59246515, 0.6089062 ]]])"
      ]
     },
     "execution_count": 33,
     "metadata": {},
     "output_type": "execute_result"
    }
   ],
   "source": [
    "random = np.random.random((3,3,4))\n",
    "random"
   ]
  },
  {
   "cell_type": "code",
   "execution_count": 34,
   "id": "6ba6bf0f",
   "metadata": {},
   "outputs": [
    {
     "data": {
      "text/plain": [
       "3"
      ]
     },
     "execution_count": 34,
     "metadata": {},
     "output_type": "execute_result"
    }
   ],
   "source": [
    "random.ndim"
   ]
  },
  {
   "cell_type": "markdown",
   "id": "9cd21014",
   "metadata": {},
   "source": [
    "#### Ranges"
   ]
  },
  {
   "cell_type": "code",
   "execution_count": 35,
   "id": "8972e356",
   "metadata": {},
   "outputs": [
    {
     "data": {
      "text/plain": [
       "array([ 0,  8, 16, 24, 32, 40, 48])"
      ]
     },
     "execution_count": 35,
     "metadata": {},
     "output_type": "execute_result"
    }
   ],
   "source": [
    "# Instead of filling the same values we can create sequences of values by specifying the boundaries.For this we use two functions,namely namely and linscape.\n",
    "a_range = np.arange(0,50,8)\n",
    "a_range"
   ]
  },
  {
   "cell_type": "code",
   "execution_count": 36,
   "id": "1dd3f64f",
   "metadata": {},
   "outputs": [
    {
     "data": {
      "text/plain": [
       "array([10. , 12.2, 14.4])"
      ]
     },
     "execution_count": 36,
     "metadata": {},
     "output_type": "execute_result"
    }
   ],
   "source": [
    "b_range = np.arange(10,15,2.2)\n",
    "b_range"
   ]
  },
  {
   "cell_type": "code",
   "execution_count": 37,
   "id": "f9c6fe47",
   "metadata": {},
   "outputs": [
    {
     "data": {
      "text/plain": [
       "1"
      ]
     },
     "execution_count": 37,
     "metadata": {},
     "output_type": "execute_result"
    }
   ],
   "source": [
    "b_range.ndim"
   ]
  },
  {
   "cell_type": "code",
   "execution_count": 38,
   "id": "c02ca429",
   "metadata": {},
   "outputs": [
    {
     "data": {
      "text/plain": [
       "array([ 0. , 12.5, 25. , 37.5, 50. ])"
      ]
     },
     "execution_count": 38,
     "metadata": {},
     "output_type": "execute_result"
    }
   ],
   "source": [
    "a_linspace = np.linspace(0,50,5)\n",
    "a_linspace"
   ]
  },
  {
   "cell_type": "code",
   "execution_count": 39,
   "id": "369c6785",
   "metadata": {},
   "outputs": [
    {
     "data": {
      "text/plain": [
       "array([ 10,  30,  50,  70,  90, 110])"
      ]
     },
     "execution_count": 39,
     "metadata": {},
     "output_type": "execute_result"
    }
   ],
   "source": [
    "np.arange(10, 111,20)"
   ]
  },
  {
   "cell_type": "code",
   "execution_count": 40,
   "id": "6ba8a09b",
   "metadata": {},
   "outputs": [
    {
     "data": {
      "text/plain": [
       "array([44, 43,  7, 25, 46,  4, 13,  5,  9, 40, 35,  9, 17, 19, 20, 21, 18,\n",
       "       22, 26, 23,  1, 39, 20, 25, 27])"
      ]
     },
     "execution_count": 40,
     "metadata": {},
     "output_type": "execute_result"
    }
   ],
   "source": [
    "np.random.randint(0, 50, 25)"
   ]
  },
  {
   "cell_type": "code",
   "execution_count": 41,
   "id": "d1313453",
   "metadata": {},
   "outputs": [
    {
     "data": {
      "text/plain": [
       "array([0.21961075, 0.48642997, 0.02657549, 0.60675016, 0.00985582,\n",
       "       0.25774095, 0.90626846, 0.49764191, 0.79794987, 0.67055019])"
      ]
     },
     "execution_count": 41,
     "metadata": {},
     "output_type": "execute_result"
    }
   ],
   "source": [
    "np.random.rand(10)"
   ]
  },
  {
   "cell_type": "markdown",
   "id": "4ef06212",
   "metadata": {},
   "source": [
    "#### Math functions"
   ]
  },
  {
   "cell_type": "code",
   "execution_count": 42,
   "id": "23091420",
   "metadata": {},
   "outputs": [
    {
     "data": {
      "text/plain": [
       "array([[[0.79409564, 0.5887583 , 0.13687678, 0.39480043],\n",
       "        [0.91788076, 0.05900229, 0.82807758, 0.43105247],\n",
       "        [0.03871859, 0.1970956 , 0.59798073, 0.79041572]],\n",
       "\n",
       "       [[0.78998755, 0.38300601, 0.74845573, 0.049379  ],\n",
       "        [0.52702461, 0.54839287, 0.66419217, 0.28710357],\n",
       "        [0.07297901, 0.85586927, 0.57138254, 0.89160126]],\n",
       "\n",
       "       [[0.8416422 , 0.32689418, 0.90253526, 0.22347807],\n",
       "        [0.73811685, 0.65764282, 0.73364079, 0.96443823],\n",
       "        [0.2044097 , 0.04806092, 0.40165311, 0.55035107]]])"
      ]
     },
     "execution_count": 42,
     "metadata": {},
     "output_type": "execute_result"
    }
   ],
   "source": [
    "r = np.random.random((3,3,4))\n",
    "r"
   ]
  },
  {
   "cell_type": "code",
   "execution_count": 43,
   "id": "1a9947a2",
   "metadata": {},
   "outputs": [
    {
     "data": {
      "text/plain": [
       "array([[[2.21243925, 1.80174979, 1.14668684, 1.48408798],\n",
       "        [2.50397824, 1.06077767, 2.28891426, 1.5388763 ],\n",
       "        [1.03947792, 1.21786046, 1.81844317, 2.20431262]],\n",
       "\n",
       "       [[2.203369  , 1.46668685, 2.11373332, 1.05061846],\n",
       "        [1.69388484, 1.73046969, 1.94292033, 1.33256222],\n",
       "        [1.07570796, 2.35341924, 1.77071343, 2.43903204]],\n",
       "\n",
       "       [[2.32017405, 1.38665474, 2.46584674, 1.25041822],\n",
       "        [2.09199227, 1.93023705, 2.08264932, 2.62331353],\n",
       "        [1.22680068, 1.04923457, 1.49429289, 1.73386162]]])"
      ]
     },
     "execution_count": 43,
     "metadata": {},
     "output_type": "execute_result"
    }
   ],
   "source": [
    "# taking power of each values\n",
    "np.exp(r)"
   ]
  },
  {
   "cell_type": "code",
   "execution_count": 44,
   "id": "07c67d35",
   "metadata": {},
   "outputs": [
    {
     "data": {
      "text/plain": [
       "array([[[0.71323   , 0.55532881, 0.13644978, 0.38462398],\n",
       "        [0.79431596, 0.05896806, 0.73663261, 0.41782723],\n",
       "        [0.03870892, 0.19582199, 0.56297475, 0.71064582]],\n",
       "\n",
       "       [[0.71034451, 0.37371037, 0.68050802, 0.04935894],\n",
       "        [0.50296392, 0.52131644, 0.61642323, 0.28317554],\n",
       "        [0.07291425, 0.75514106, 0.54079549, 0.7780786 ]],\n",
       "\n",
       "       [[0.74573822, 0.32110324, 0.78490033, 0.22162254],\n",
       "        [0.67289607, 0.611253  , 0.66957824, 0.8217289 ],\n",
       "        [0.20298919, 0.04804242, 0.39094043, 0.52298649]]])"
      ]
     },
     "execution_count": 44,
     "metadata": {},
     "output_type": "execute_result"
    }
   ],
   "source": [
    "# taking sin value of each elenment\n",
    "np.sin(r)"
   ]
  },
  {
   "cell_type": "code",
   "execution_count": 45,
   "id": "c4c76b4d",
   "metadata": {},
   "outputs": [
    {
     "data": {
      "text/plain": [
       "array([[[0.70093007, 0.83163087, 0.99064699, 0.92307334],\n",
       "        [0.60750486, 0.99825987, 0.67629312, 0.9085265 ],\n",
       "        [0.99925053, 0.98063946, 0.82647409, 0.70354994]],\n",
       "\n",
       "       [[0.70385416, 0.92754545, 0.73274063, 0.9987811 ],\n",
       "        [0.86430741, 0.85336345, 0.78741501, 0.95906809],\n",
       "        [0.99733821, 0.65556234, 0.84115411, 0.62816693]],\n",
       "\n",
       "       [[0.66623907, 0.9470442 , 0.61962204, 0.97513253],\n",
       "        [0.73973703, 0.79143526, 0.74274153, 0.56987859],\n",
       "        [0.97918098, 0.9988453 , 0.92041598, 0.85234097]]])"
      ]
     },
     "execution_count": 45,
     "metadata": {},
     "output_type": "execute_result"
    }
   ],
   "source": [
    "#taking cosine value of each elenment\n",
    "np.cos(r)"
   ]
  },
  {
   "cell_type": "code",
   "execution_count": 46,
   "id": "2a0bc39d",
   "metadata": {},
   "outputs": [
    {
     "data": {
      "text/plain": [
       "array([[[1.01754802, 0.66775877, 0.13773804, 0.41667759],\n",
       "        [1.30750552, 0.05907086, 1.08922091, 0.45989548],\n",
       "        [0.03873795, 0.19968806, 0.68117653, 1.01008581]],\n",
       "\n",
       "       [[1.00922116, 0.40290248, 0.9287161 , 0.04941917],\n",
       "        [0.58192712, 0.61089614, 0.78284415, 0.29526115],\n",
       "        [0.07310885, 1.15189817, 0.64292082, 1.23864942]],\n",
       "\n",
       "       [[1.11932526, 0.33905834, 1.2667405 , 0.22727427],\n",
       "        [0.90964226, 0.7723348 , 0.90149561, 1.44193678],\n",
       "        [0.20730508, 0.04809796, 0.4247432 , 0.61358835]]])"
      ]
     },
     "execution_count": 46,
     "metadata": {},
     "output_type": "execute_result"
    }
   ],
   "source": [
    "# taking tan  value of each elenment\n",
    "np.tan(r)"
   ]
  },
  {
   "cell_type": "code",
   "execution_count": 47,
   "id": "6bf64f24",
   "metadata": {},
   "outputs": [
    {
     "data": {
      "text/plain": [
       "array([[[-0.23055137, -0.52973954, -1.98867418, -0.92937488],\n",
       "        [-0.08568778, -2.83017899, -0.18864843, -0.84152545],\n",
       "        [-3.25143543, -1.6240664 , -0.51419674, -0.23519624]],\n",
       "\n",
       "       [[-0.23573809, -0.95970459, -0.28974322, -3.00823001],\n",
       "        [-0.64050803, -0.60076334, -0.40918377, -1.24791225],\n",
       "        [-2.6175834 , -0.15563764, -0.55969635, -0.11473627]],\n",
       "\n",
       "       [[-0.17240029, -1.11811876, -0.10254753, -1.49844199],\n",
       "        [-0.30365313, -0.41909332, -0.30973575, -0.0362095 ],\n",
       "        [-1.58762895, -3.03528594, -0.91216646, -0.5971989 ]]])"
      ]
     },
     "execution_count": 47,
     "metadata": {},
     "output_type": "execute_result"
    }
   ],
   "source": [
    "# taking log value of each elenment\n",
    "np.log(r)"
   ]
  },
  {
   "cell_type": "code",
   "execution_count": 48,
   "id": "023ea316",
   "metadata": {},
   "outputs": [
    {
     "data": {
      "text/plain": [
       "array([[[0.89112044, 0.76730587, 0.36996862, 0.62833146],\n",
       "        [0.95806094, 0.24290387, 0.90998768, 0.65654587],\n",
       "        [0.1967704 , 0.4439545 , 0.77329214, 0.88905327]],\n",
       "\n",
       "       [[0.88881244, 0.6188748 , 0.86513336, 0.22221387],\n",
       "        [0.72596461, 0.74053553, 0.81497986, 0.53582047],\n",
       "        [0.27014628, 0.92513203, 0.7558985 , 0.9442464 ]],\n",
       "\n",
       "       [[0.9174106 , 0.57174661, 0.95001856, 0.47273467],\n",
       "        [0.85913727, 0.8109518 , 0.85652834, 0.98205816],\n",
       "        [0.45211691, 0.21922801, 0.63376109, 0.7418565 ]]])"
      ]
     },
     "execution_count": 48,
     "metadata": {},
     "output_type": "execute_result"
    }
   ],
   "source": [
    "# taking square root of each elenment\n",
    "np.sqrt(r)"
   ]
  },
  {
   "cell_type": "markdown",
   "id": "d9d244a5",
   "metadata": {},
   "source": [
    "#### Aggregate functions"
   ]
  },
  {
   "cell_type": "code",
   "execution_count": 49,
   "id": "76a08a36",
   "metadata": {},
   "outputs": [
    {
     "data": {
      "text/plain": [
       "18.75699168669748"
      ]
     },
     "execution_count": 49,
     "metadata": {},
     "output_type": "execute_result"
    }
   ],
   "source": [
    "# Returns the sum of all values in the array\n",
    "r.sum()"
   ]
  },
  {
   "cell_type": "code",
   "execution_count": 50,
   "id": "64fdbb2d",
   "metadata": {},
   "outputs": [
    {
     "data": {
      "text/plain": [
       "0.038718590133849706"
      ]
     },
     "execution_count": 50,
     "metadata": {},
     "output_type": "execute_result"
    }
   ],
   "source": [
    "# Returns the minimum values in the array\n",
    "r.min()"
   ]
  },
  {
   "cell_type": "code",
   "execution_count": 51,
   "id": "150cda50",
   "metadata": {},
   "outputs": [
    {
     "data": {
      "text/plain": [
       "0.5210275468527077"
      ]
     },
     "execution_count": 51,
     "metadata": {},
     "output_type": "execute_result"
    }
   ],
   "source": [
    "# Returns the arithmetic mean of all values in the array\n",
    "r.mean()"
   ]
  },
  {
   "cell_type": "code",
   "execution_count": 52,
   "id": "63b6eafe",
   "metadata": {},
   "outputs": [
    {
     "data": {
      "text/plain": [
       "0.5608668022930028"
      ]
     },
     "execution_count": 52,
     "metadata": {},
     "output_type": "execute_result"
    }
   ],
   "source": [
    "# Returns the median of all values in the array\n",
    "np.median(r)"
   ]
  },
  {
   "cell_type": "code",
   "execution_count": 53,
   "id": "319fdba7",
   "metadata": {},
   "outputs": [
    {
     "data": {
      "text/plain": [
       "0.29095445273513443"
      ]
     },
     "execution_count": 53,
     "metadata": {},
     "output_type": "execute_result"
    }
   ],
   "source": [
    "# Returns the standard deviation of values in the array\n",
    "np.std(r)"
   ]
  },
  {
   "cell_type": "code",
   "execution_count": null,
   "id": "2e8a3fa9",
   "metadata": {},
   "outputs": [],
   "source": []
  }
 ],
 "metadata": {
  "kernelspec": {
   "display_name": "Python 3 (ipykernel)",
   "language": "python",
   "name": "python3"
  },
  "language_info": {
   "codemirror_mode": {
    "name": "ipython",
    "version": 3
   },
   "file_extension": ".py",
   "mimetype": "text/x-python",
   "name": "python",
   "nbconvert_exporter": "python",
   "pygments_lexer": "ipython3",
   "version": "3.9.13"
  }
 },
 "nbformat": 4,
 "nbformat_minor": 5
}
